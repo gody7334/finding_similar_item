{
 "cells": [
  {
   "cell_type": "code",
   "execution_count": 2,
   "metadata": {
    "collapsed": true
   },
   "outputs": [],
   "source": [
    "# %load ../lib/lsh/lsh.py\n",
    "\"\"\"\n",
    "LSH Locality Sensitive Hashing\n",
    "- indexing for nearest neighbour searches in sublinear time\n",
    "\n",
    "simple tutorial implementation based on\n",
    "A. Andoni and P. Indyk, \"Near-optimal hashing algorithms for approximate nearest neighbor in high dimensions\"\n",
    "http://people.csail.mit.edu/indyk/p117-andoni.pdf\n",
    "\"\"\"\n",
    "\n",
    "import random\n",
    "import pprint\n",
    "from collections import defaultdict\n",
    "from operator import itemgetter"
   ]
  },
  {
   "cell_type": "code",
   "execution_count": 3,
   "metadata": {
    "collapsed": true
   },
   "outputs": [],
   "source": [
    "class LSHIndex:\n",
    "\n",
    "    def __init__(self,hash_family,k,L):\n",
    "        self.hash_family = hash_family\n",
    "        self.k = k\n",
    "        self.L = 0\n",
    "        self.hash_tables = []\n",
    "        self.resize(L)\n",
    "\n",
    "    def resize(self,L):\n",
    "        \"\"\" update the number of hash tables to be used \"\"\"\n",
    "        if L < self.L:\n",
    "            self.hash_tables = self.hash_tables[:L]\n",
    "        else:\n",
    "            # initialise a new hash table for each hash function\n",
    "            hash_funcs = [[self.hash_family.create_hash_func() for h in xrange(self.k)] for l in xrange(self.L,L)]\n",
    "            self.hash_tables.extend([(g,defaultdict(lambda:[])) for g in hash_funcs])\n",
    "\n",
    "    def hash(self,g,p):\n",
    "        return self.hash_family.combine([h.hash(p) for h in g])\n",
    "\n",
    "    def index(self,points):\n",
    "        \"\"\" index the supplied points \"\"\"\n",
    "        self.points = points\n",
    "        for g,table in self.hash_tables:\n",
    "            for ix,p in enumerate(self.points):\n",
    "                table[self.hash(g,p)].append(ix)\n",
    "        # reset stats\n",
    "        self.tot_touched = 0\n",
    "        self.num_queries = 0\n",
    "\n",
    "    def query(self,q,metric,max_results):\n",
    "        \"\"\" find the max_results closest indexed points to q according to the supplied metric \"\"\"\n",
    "        candidates = set()\n",
    "        for g,table in self.hash_tables:\n",
    "            matches = table.get(self.hash(g,q),[])\n",
    "            candidates.update(matches)\n",
    "        # update stats\n",
    "        self.tot_touched += len(candidates)\n",
    "        self.num_queries += 1\n",
    "        # rerank candidates\n",
    "        candidates = [(ix,metric(q,self.points[ix])) for ix in candidates]\n",
    "        candidates.sort(key=itemgetter(1))\n",
    "        return candidates[:max_results]\n",
    "\n",
    "    def get_avg_touched(self):\n",
    "        \"\"\" mean number of candidates inspected per query \"\"\"\n",
    "        return self.tot_touched/self.num_queries"
   ]
  },
  {
   "cell_type": "code",
   "execution_count": 4,
   "metadata": {
    "collapsed": true
   },
   "outputs": [],
   "source": [
    "class L1HashFamily:\n",
    "\n",
    "    def __init__(self,w,d):\n",
    "        self.w = w\n",
    "        self.d = d\n",
    "\n",
    "    def create_hash_func(self):\n",
    "        # each L1Hash is initialised with a different random partition vector\n",
    "        return L1Hash(self.rand_partition(),self.w)\n",
    "\n",
    "    def rand_partition(self):\n",
    "        return [random.uniform(0,self.w) for i in xrange(self.d)]\n",
    "\n",
    "    def combine(self,hashes):\n",
    "        \"\"\"\n",
    "        combine hash values naively with str()\n",
    "        - in a real implementation we can mix the values so they map to integer keys\n",
    "        into a conventional map table\n",
    "        \"\"\"\n",
    "        return str(hashes)\n",
    "\n",
    "class L1Hash:\n",
    "\n",
    "    def __init__(self,S,w):\n",
    "        self.S = S\n",
    "        self.w = w\n",
    "\n",
    "    def hash(self,vec):\n",
    "        # use str() as a naive way of forming a single value\n",
    "        return str([int((vec[i]-s)/self.w) for i,s in enumerate(self.S)])\n",
    "\n",
    "def L1_norm(u,v):\n",
    "        return sum(abs(u[i]-v[i]) for i in xrange(len(u)))\n",
    "\n",
    "def dot(u,v):\n",
    "    return sum(ux*vx for ux,vx in zip(u,v))"
   ]
  },
  {
   "cell_type": "code",
   "execution_count": 5,
   "metadata": {
    "collapsed": true
   },
   "outputs": [],
   "source": [
    "class L2HashFamily:\n",
    "\n",
    "    def __init__(self,w,d):\n",
    "        self.w = w\n",
    "        self.d = d\n",
    "\n",
    "    def create_hash_func(self):\n",
    "        # each L2Hash is initialised with a different random projection vector and offset\n",
    "        return L2Hash(self.rand_vec(),self.rand_offset(),self.w)\n",
    "\n",
    "    def rand_vec(self):\n",
    "        return [random.gauss(0,1) for i in xrange(self.d)]\n",
    "\n",
    "    def rand_offset(self):\n",
    "        return random.uniform(0,self.w)\n",
    "\n",
    "    def combine(self,hashes):\n",
    "        \"\"\"\n",
    "        combine hash values naively with str()\n",
    "        - in a real implementation we can mix the values so they map to integer keys\n",
    "        into a conventional map table\n",
    "        \"\"\"\n",
    "        return str(hashes)\n",
    "\n",
    "class L2Hash:\n",
    "\n",
    "    def __init__(self,r,b,w):\n",
    "        self.r = r\n",
    "        self.b = b\n",
    "        self.w = w\n",
    "\n",
    "    def hash(self,vec):\n",
    "        return int((dot(vec,self.r)+self.b)/self.w)\n",
    "\n",
    "def L2_norm(u,v):\n",
    "        return sum((ux-vx)**2 for ux,vx in zip(u,v))**0.5"
   ]
  },
  {
   "cell_type": "code",
   "execution_count": 6,
   "metadata": {
    "collapsed": true
   },
   "outputs": [],
   "source": [
    "class CosineHashFamily:\n",
    "\n",
    "    def __init__(self,d):\n",
    "        self.d = d\n",
    "\n",
    "    def create_hash_func(self):\n",
    "        # each CosineHash is initialised with a random projection vector\n",
    "        return CosineHash(self.rand_vec())\n",
    "\n",
    "    def rand_vec(self):\n",
    "        return [random.gauss(0,1) for i in xrange(self.d)]\n",
    "\n",
    "    def combine(self,hashes):\n",
    "        \"\"\" combine by treating as a bitvector \"\"\"\n",
    "        return sum(2**i if h > 0 else 0 for i,h in enumerate(hashes))\n",
    "\n",
    "class CosineHash:\n",
    "\n",
    "    def __init__(self,r):\n",
    "        self.r = r\n",
    "\n",
    "    def hash(self,vec):\n",
    "        return self.sgn(dot(vec,self.r))\n",
    "\n",
    "    def sgn(self,x):\n",
    "        return int(x>0)\n",
    "\n",
    "def cosine_distance(u,v):\n",
    "    return 1 - dot(u,v)/(dot(u,u)*dot(v,v))**0.5"
   ]
  },
  {
   "cell_type": "code",
   "execution_count": 7,
   "metadata": {
    "collapsed": true
   },
   "outputs": [],
   "source": [
    "class LSHTester:\n",
    "    \"\"\"\n",
    "    grid search over LSH parameters, evaluating by finding the specified\n",
    "    number of nearest neighbours for the supplied queries from the supplied points\n",
    "    \"\"\"\n",
    "\n",
    "    def __init__(self,points,queries,num_neighbours):\n",
    "        self.points = points\n",
    "        self.queries = queries\n",
    "        self.num_neighbours = num_neighbours\n",
    "\n",
    "    def run(self,name,metric,hash_family,k_vals,L_vals):\n",
    "        \"\"\"\n",
    "        name: name of test\n",
    "        metric: distance metric for nearest neighbour computation\n",
    "        hash_family: hash family for LSH\n",
    "        k_vals: numbers of hashes to concatenate in each hash function to try in grid search\n",
    "        L_vals: numbers of hash functions/tables to try in grid search\n",
    "        \"\"\"\n",
    "        exact_hits = [[ix for ix,dist in self.linear(q,metric,self.num_neighbours+1)] for q in self.queries]\n",
    "\n",
    "        print name\n",
    "        print 'L\\tk\\tacc\\ttouch'\n",
    "        for k in k_vals:        # concatenating more hash functions increases selectivity\n",
    "            lsh = LSHIndex(hash_family,k,0)\n",
    "            for L in L_vals:    # using more hash tables increases recall\n",
    "                lsh.resize(L)\n",
    "                lsh.index(self.points)\n",
    "\n",
    "                correct = 0\n",
    "                for q,hits in zip(self.queries,exact_hits):\n",
    "                    lsh_hits = [ix for ix,dist in lsh.query(q,metric,self.num_neighbours+1)]\n",
    "                    if lsh_hits == hits:\n",
    "                        correct += 1\n",
    "                print \"{0}\\t{1}\\t{2}\\t{3}\".format(L,k,float(correct)/100,float(lsh.get_avg_touched())/len(self.points))\n",
    "\n",
    "    def linear(self,q,metric,max_results):\n",
    "        \"\"\" brute force search by linear scan \"\"\"\n",
    "        candidates = [(ix,metric(q,p)) for ix,p in enumerate(self.points)]\n",
    "        return sorted(candidates,key=itemgetter(1))[:max_results]"
   ]
  },
  {
   "cell_type": "code",
   "execution_count": 11,
   "metadata": {
    "collapsed": false
   },
   "outputs": [
    {
     "ename": "NameError",
     "evalue": "name 'randint' is not defined",
     "output_type": "error",
     "traceback": [
      "\u001b[0;31m---------------------------------------------------------------------------\u001b[0m",
      "\u001b[0;31mNameError\u001b[0m                                 Traceback (most recent call last)",
      "\u001b[0;32m<ipython-input-11-9ebd04ab29ef>\u001b[0m in \u001b[0;36m<module>\u001b[0;34m()\u001b[0m\n\u001b[1;32m      3\u001b[0m \u001b[0mxmax\u001b[0m \u001b[0;34m=\u001b[0m \u001b[0;36m20\u001b[0m\u001b[0;34m\u001b[0m\u001b[0m\n\u001b[1;32m      4\u001b[0m \u001b[0mnum_points\u001b[0m \u001b[0;34m=\u001b[0m \u001b[0;36m1000\u001b[0m\u001b[0;34m\u001b[0m\u001b[0m\n\u001b[0;32m----> 5\u001b[0;31m \u001b[0mpoints\u001b[0m \u001b[0;34m=\u001b[0m \u001b[0;34m[\u001b[0m\u001b[0;34m[\u001b[0m\u001b[0mrandint\u001b[0m\u001b[0;34m(\u001b[0m\u001b[0;36m0\u001b[0m\u001b[0;34m,\u001b[0m\u001b[0mxmax\u001b[0m\u001b[0;34m)\u001b[0m \u001b[0;32mfor\u001b[0m \u001b[0mi\u001b[0m \u001b[0;32min\u001b[0m \u001b[0mxrange\u001b[0m\u001b[0;34m(\u001b[0m\u001b[0md\u001b[0m\u001b[0;34m)\u001b[0m\u001b[0;34m]\u001b[0m \u001b[0;32mfor\u001b[0m \u001b[0mj\u001b[0m \u001b[0;32min\u001b[0m \u001b[0mxrange\u001b[0m\u001b[0;34m(\u001b[0m\u001b[0mnum_points\u001b[0m\u001b[0;34m)\u001b[0m\u001b[0;34m]\u001b[0m\u001b[0;34m\u001b[0m\u001b[0m\n\u001b[0m\u001b[1;32m      6\u001b[0m \u001b[0;34m\u001b[0m\u001b[0m\n\u001b[1;32m      7\u001b[0m \u001b[0;31m# seed the dataset with a fixed number of nearest neighbours\u001b[0m\u001b[0;34m\u001b[0m\u001b[0;34m\u001b[0m\u001b[0m\n",
      "\u001b[0;31mNameError\u001b[0m: name 'randint' is not defined"
     ]
    }
   ],
   "source": [
    "    # create a test dataset of vectors of non-negative integers\n",
    "    d = 5\n",
    "    xmax = 20\n",
    "    num_points = 1000\n",
    "    points = [[random.randint(0,xmax) for i in xrange(d)] for j in xrange(num_points)]\n",
    "\n",
    "    # seed the dataset with a fixed number of nearest neighbours\n",
    "    # within a given small \"radius\"\n",
    "    num_neighbours = 2\n",
    "    radius = 0.1\n",
    "    for point in points[:num_points]:\n",
    "        for i in xrange(num_neighbours):\n",
    "            points.append([x+random.uniform(-radius,radius) for x in point])\n",
    "\n",
    "    # test lsh versus brute force comparison by running a grid\n",
    "    # search for the best lsh parameter values for each family\n",
    "    tester = LSHTester(points,points[:num_points/10],num_neighbours)"
   ]
  },
  {
   "cell_type": "code",
   "execution_count": 10,
   "metadata": {
    "collapsed": false
   },
   "outputs": [
    {
     "name": "stdout",
     "output_type": "stream",
     "text": [
      "L2\n",
      "L\tk\tacc\ttouch\n",
      "2\t2\t0.85\t0.00133333333333\n",
      "4\t2\t1.0\t0.00433333333333\n",
      "8\t2\t1.0\t0.011\n",
      "16\t2\t1.0\t0.0193333333333\n",
      "2\t4\t0.87\t0.000666666666667\n",
      "4\t4\t1.0\t0.001\n",
      "8\t4\t1.0\t0.001\n",
      "16\t4\t1.0\t0.001\n",
      "2\t8\t0.5\t0.000666666666667\n",
      "4\t8\t0.93\t0.000666666666667\n",
      "8\t8\t1.0\t0.001\n",
      "16\t8\t1.0\t0.001\n"
     ]
    }
   ],
   "source": [
    "    args = {'name':'L2',\n",
    "            'metric':L2_norm,\n",
    "            'hash_family':L2HashFamily(10*radius,d),\n",
    "            'k_vals':[2,4,8],\n",
    "            'L_vals':[2,4,8,16]}\n",
    "    tester.run(**args)"
   ]
  },
  {
   "cell_type": "code",
   "execution_count": 7,
   "metadata": {
    "collapsed": false
   },
   "outputs": [
    {
     "name": "stdout",
     "output_type": "stream",
     "text": [
      "L1\n",
      "L\tk\tacc\ttouch\n",
      "2\t2\t0.37\t0.000666666666667\n",
      "4\t2\t1.0\t0.001\n",
      "8\t2\t1.0\t0.001\n",
      "16\t2\t1.0\t0.001\n",
      "2\t4\t0.19\t0.000333333333333\n",
      "4\t4\t0.95\t0.000666666666667\n",
      "8\t4\t1.0\t0.001\n",
      "16\t4\t1.0\t0.001\n",
      "2\t8\t0.07\t0.000333333333333\n",
      "4\t8\t0.6\t0.000666666666667\n",
      "8\t8\t0.82\t0.000666666666667\n",
      "16\t8\t0.92\t0.000666666666667\n"
     ]
    }
   ],
   "source": [
    "    args = {'name':'L1',\n",
    "            'metric':L1_norm,\n",
    "            'hash_family':L1HashFamily(10*radius,d),\n",
    "            'k_vals':[2,4,8],\n",
    "            'L_vals':[2,4,8,16]}\n",
    "    tester.run(**args)"
   ]
  },
  {
   "cell_type": "code",
   "execution_count": 8,
   "metadata": {
    "collapsed": false
   },
   "outputs": [
    {
     "name": "stdout",
     "output_type": "stream",
     "text": [
      "cosine\n",
      "L\tk\tacc\ttouch\n",
      "2\t16\t1.0\t0.089\n",
      "4\t16\t1.0\t0.257666666667\n",
      "8\t16\t1.0\t0.384\n",
      "16\t16\t1.0\t0.569\n",
      "2\t32\t1.0\t0.0146666666667\n",
      "4\t32\t1.0\t0.0286666666667\n",
      "8\t32\t1.0\t0.0566666666667\n",
      "16\t32\t1.0\t0.111\n",
      "2\t64\t0.99\t0.002\n",
      "4\t64\t1.0\t0.00433333333333\n",
      "8\t64\t1.0\t0.0106666666667\n",
      "16\t64\t1.0\t0.0153333333333\n"
     ]
    }
   ],
   "source": [
    "    args = {'name':'cosine',\n",
    "            'metric':cosine_distance,\n",
    "            'hash_family':CosineHashFamily(d),\n",
    "            'k_vals':[16,32,64],\n",
    "            'L_vals':[2,4,8,16]}\n",
    "    tester.run(**args)"
   ]
  },
  {
   "cell_type": "code",
   "execution_count": null,
   "metadata": {
    "collapsed": true
   },
   "outputs": [],
   "source": []
  }
 ],
 "metadata": {
  "kernelspec": {
   "display_name": "Python 2",
   "language": "python",
   "name": "python2"
  },
  "language_info": {
   "codemirror_mode": {
    "name": "ipython",
    "version": 2
   },
   "file_extension": ".py",
   "mimetype": "text/x-python",
   "name": "python",
   "nbconvert_exporter": "python",
   "pygments_lexer": "ipython2",
   "version": "2.7.9"
  }
 },
 "nbformat": 4,
 "nbformat_minor": 1
}
