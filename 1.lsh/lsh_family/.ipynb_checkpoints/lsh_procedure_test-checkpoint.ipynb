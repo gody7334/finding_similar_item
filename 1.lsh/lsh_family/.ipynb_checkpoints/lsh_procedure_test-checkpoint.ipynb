{
 "cells": [
  {
   "cell_type": "code",
   "execution_count": null,
   "metadata": {
    "collapsed": false
   },
   "outputs": [],
   "source": [
    "import random\n",
    "import pprint\n",
    "import types\n",
    "import numpy as np\n",
    "import pandas as pd\n",
    "import lsh_func\n",
    "from IPython.core.debugger import Tracer\n",
    "from collections import defaultdict\n",
    "from operator import itemgetter\n",
    "# from pylab import *\n",
    "import matplotlib.pyplot as plt\n",
    "from mpl_toolkits.mplot3d import axes3d\n",
    "\n",
    "import l2_hash_family\n",
    "import cosine_hash_family\n",
    "import lsh_tester\n",
    "import lsh_index\n",
    "\n",
    "from lsh_index import LSHIndex\n",
    "from l2_hash_family import L2HashFamily\n",
    "from cosine_hash_family import CosineHashFamily\n",
    "from lsh_tester import LSHTester"
   ]
  },
  {
   "cell_type": "code",
   "execution_count": null,
   "metadata": {
    "collapsed": false,
    "scrolled": false
   },
   "outputs": [],
   "source": [
    "# create random 3D unit vector\n",
    "\n",
    "d = 3\n",
    "num_points = 1000\n",
    "points = []\n",
    "for _ in xrange(num_points):\n",
    "    points.append(list(lsh_func.random_three_vector()))\n",
    "# pprint.pprint(points)\n",
    "\n",
    "%matplotlib notebook\n",
    "fig = plt.figure()\n",
    "ax = fig.gca(projection='3d')\n",
    "\n",
    "p_array = np.asarray(points)\n",
    "ax.plot(p_array[:,0],p_array[:,1],p_array[:,2],'o')\n"
   ]
  },
  {
   "cell_type": "code",
   "execution_count": null,
   "metadata": {
    "collapsed": false
   },
   "outputs": [],
   "source": [
    "# create points\n",
    "\n",
    "# create a test dataset of vectors of integers\n",
    "d = 5\n",
    "xmax = 20\n",
    "num_points = 5\n",
    "\n",
    "points = [[random.randint(-xmax,xmax) for i in xrange(d)] for j in xrange(num_points)]\n",
    "pprint.pprint(points)\n",
    "print \"------------------------------\"\n",
    "print points[0][:]"
   ]
  },
  {
   "cell_type": "code",
   "execution_count": null,
   "metadata": {
    "collapsed": false,
    "scrolled": true
   },
   "outputs": [],
   "source": [
    "# seed the dataset with a fixed number of nearest neighbours\n",
    "# within a given small \"radius\"\n",
    "num_neighbours = 2\n",
    "radius = 0.1\n",
    "for point in points[:num_points]:\n",
    "    for i in xrange(num_neighbours):\n",
    "        points.append([x+random.uniform(-radius,radius) for x in point])\n",
    "pprint.pprint(points, width= 200)"
   ]
  },
  {
   "cell_type": "code",
   "execution_count": null,
   "metadata": {
    "collapsed": false
   },
   "outputs": [],
   "source": [
    "# Cos distance\n",
    "k = 8 # num of projection\n",
    "l_index = 2 # of hash table\n",
    "hfamily = CosineHashFamily(d)\n",
    "lsh = LSHIndex(hfamily, k, l_index)\n",
    "pprint.pprint(lsh.__dict__)\n",
    "\n",
    "pprint.pprint(lsh.hash_family.__dict__)\n",
    "\n",
    "for g,table in lsh.hash_tables: \n",
    "    for ix, p in enumerate(points):\n",
    "        hash_value = lsh.hash(g,p)\n",
    "        point_hash = (p, hash_value)\n",
    "        print point_hash"
   ]
  },
  {
   "cell_type": "code",
   "execution_count": null,
   "metadata": {
    "collapsed": false,
    "scrolled": true
   },
   "outputs": [],
   "source": [
    "# l2_norm\n",
    "\n",
    "k = 3 # num of projection\n",
    "l_index = 3 # of hash table\n",
    "hfamily = L2HashFamily(10,d)\n",
    "lsh = LSHIndex(hfamily, k, l_index)\n",
    "pprint.pprint(lsh.__dict__)\n",
    "\n",
    "pprint.pprint(lsh.hash_family.__dict__)\n",
    "\n",
    "for g,table in lsh.hash_tables: \n",
    "    for ix, p in enumerate(points):\n",
    "        hash_value = lsh.hash(g,p)\n",
    "        point_hash = (p, hash_value)\n",
    "        print point_hash"
   ]
  },
  {
   "cell_type": "code",
   "execution_count": null,
   "metadata": {
    "collapsed": false,
    "scrolled": true
   },
   "outputs": [],
   "source": [
    "# Start from here:\n",
    "\n",
    "# seed the dataset with a fixed number of nearest neighbours\n",
    "# within a given small \"radius\"\n",
    "num_neighbours = 2\n",
    "radius = 0.1\n",
    "for point in points[:num_points]:\n",
    "    for i in xrange(num_neighbours):\n",
    "        points.append([x+random.uniform(-radius,radius) for x in point])\n",
    "# pprint.pprint(points, width= 200)\n",
    "\n",
    "# test lsh versus brute force comparison by running a grid\n",
    "# search for the best lsh parameter values for each family\n",
    "# tester = LSHTester(points,points[:num_points/10],num_neighbours)\n",
    "tester = LSHTester(points,points[:num_points/10],num_neighbours)\n",
    "# pprint.pprint(tester.__dict__, width= 200)\n",
    "\n",
    "args = {'name':'L2',\n",
    "        'metric':l2_hash_family.L2_norm,\n",
    "        'hash_family':L2HashFamily(10*radius,d),\n",
    "        'k_vals':[2],\n",
    "        'L_vals':[2]}\n",
    "tester.run(**args)"
   ]
  },
  {
   "cell_type": "code",
   "execution_count": null,
   "metadata": {
    "collapsed": true
   },
   "outputs": [],
   "source": []
  },
  {
   "cell_type": "code",
   "execution_count": null,
   "metadata": {
    "collapsed": true
   },
   "outputs": [],
   "source": []
  }
 ],
 "metadata": {
  "kernelspec": {
   "display_name": "Python 2",
   "language": "python",
   "name": "python2"
  },
  "language_info": {
   "codemirror_mode": {
    "name": "ipython",
    "version": 2
   },
   "file_extension": ".py",
   "mimetype": "text/x-python",
   "name": "python",
   "nbconvert_exporter": "python",
   "pygments_lexer": "ipython2",
   "version": "2.7.9"
  }
 },
 "nbformat": 4,
 "nbformat_minor": 1
}
