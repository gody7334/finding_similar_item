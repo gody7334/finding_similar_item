{
 "cells": [
  {
   "cell_type": "code",
   "execution_count": 16,
   "metadata": {
    "collapsed": true
   },
   "outputs": [],
   "source": [
    "import pprint\n",
    "import nltk\n",
    "import func\n",
    "import string\n",
    "import pandas as pd\n",
    "import binascii"
   ]
  },
  {
   "cell_type": "code",
   "execution_count": 17,
   "metadata": {
    "collapsed": true
   },
   "outputs": [],
   "source": [
    "f = open(\"./data/articles_100.train\", \"rU\")\n",
    "line = f.readline()\n",
    "id_article = line.split(' ', 1)\n",
    "id = id_article[0]\n",
    "text = id_article[1]\n",
    "f.close()"
   ]
  },
  {
   "cell_type": "code",
   "execution_count": 27,
   "metadata": {
    "collapsed": false,
    "scrolled": true
   },
   "outputs": [
    {
     "name": "stdout",
     "output_type": "stream",
     "text": [
      "147\n"
     ]
    }
   ],
   "source": [
    "# Characters tokenize\n",
    "shingles_set = func.remove_stop_word_punc_token(text)\n",
    "# pprint.pprint(shingles_set)\n",
    "print len(shingles_set)"
   ]
  },
  {
   "cell_type": "code",
   "execution_count": 28,
   "metadata": {
    "collapsed": false,
    "scrolled": true
   },
   "outputs": [
    {
     "name": "stdout",
     "output_type": "stream",
     "text": [
      "1064373\n",
      "1434\n"
     ]
    }
   ],
   "source": [
    "shingles_hash_set = set()\n",
    "for s in shingles_set:\n",
    "    crc = binascii.crc32(s) & 0xffffffff\n",
    "    shingles_hash_set.add(crc)\n",
    "# pprint.pprint(shingles_hash_set)\n",
    "print min(shingles_hash_set)\n",
    "print len(shingles_hash_set)"
   ]
  },
  {
   "cell_type": "code",
   "execution_count": null,
   "metadata": {
    "collapsed": true
   },
   "outputs": [],
   "source": []
  }
 ],
 "metadata": {
  "kernelspec": {
   "display_name": "Python 2",
   "language": "python",
   "name": "python2"
  },
  "language_info": {
   "codemirror_mode": {
    "name": "ipython",
    "version": 2
   },
   "file_extension": ".py",
   "mimetype": "text/x-python",
   "name": "python",
   "nbconvert_exporter": "python",
   "pygments_lexer": "ipython2",
   "version": "2.7.9"
  }
 },
 "nbformat": 4,
 "nbformat_minor": 1
}
