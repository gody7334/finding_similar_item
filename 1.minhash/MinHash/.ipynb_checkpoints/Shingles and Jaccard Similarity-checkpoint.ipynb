{
 "cells": [
  {
   "cell_type": "code",
   "execution_count": 1,
   "metadata": {
    "collapsed": false
   },
   "outputs": [],
   "source": [
    "import pprint\n",
    "import nltk\n",
    "import func\n",
    "import string\n",
    "import pandas as pd"
   ]
  },
  {
   "cell_type": "code",
   "execution_count": 2,
   "metadata": {
    "collapsed": false
   },
   "outputs": [],
   "source": [
    "f = open(\"./data/articles_100.train\", \"rU\")\n",
    "line = f.readline()\n",
    "id_article = line.split(' ', 1)\n",
    "id = id_article[0]\n",
    "text = id_article[1]\n",
    "f.close()"
   ]
  },
  {
   "cell_type": "code",
   "execution_count": 3,
   "metadata": {
    "collapsed": false,
    "scrolled": false
   },
   "outputs": [
    {
     "name": "stdout",
     "output_type": "stream",
     "text": [
      "[' \"growth\"',\n",
      " ' \"value\".',\n",
      " ' -- I hav',\n",
      " ' 2, 2002 ',\n",
      " ' 2002 are',\n",
      " ' Alberto ',\n",
      " ' Anderson',\n",
      " ' April 2,',\n",
      " ' Australi',\n",
      " ' Bruni-Sa']\n"
     ]
    }
   ],
   "source": [
    "# Characters tokenize\n",
    "shingles = func.char_token(text)\n",
    "pprint.pprint(sorted(list(shingles))[:10])"
   ]
  },
  {
   "cell_type": "code",
   "execution_count": 4,
   "metadata": {
    "collapsed": false,
    "scrolled": true
   },
   "outputs": [
    {
     "name": "stdout",
     "output_type": "stream",
     "text": [
      "[\"'m pretty certain that it\",\n",
      " \"'s farmers should remember rising\",\n",
      " '2 2002 are moving today',\n",
      " '2002 are moving today to',\n",
      " 'A man was shot dead',\n",
      " 'Alberto Gonzales would have no',\n",
      " 'April 2 2002 are moving',\n",
      " \"Australia 's farmers should remember\",\n",
      " 'Bruni-Sarkozy These columns for release',\n",
      " 'Bush expressed confidence on Monday']\n"
     ]
    }
   ],
   "source": [
    "# word tokenize\n",
    "shingles = func.word_token(text)\n",
    "pprint.pprint(sorted(list(shingles))[:10])"
   ]
  },
  {
   "cell_type": "code",
   "execution_count": 5,
   "metadata": {
    "collapsed": false
   },
   "outputs": [
    {
     "name": "stdout",
     "output_type": "stream",
     "text": [
      "['\"growth\" and the other, more',\n",
      " '\"value\". I don\\'t know if',\n",
      " \"-- I haven't seen it.\",\n",
      " '2, 2002 are moving today',\n",
      " '2002 are moving today to',\n",
      " 'A man was shot dead',\n",
      " 'Alberto Gonzales would have no',\n",
      " 'April 2, 2002 are moving',\n",
      " \"Australia's farmers should remember rising\",\n",
      " 'Bruni-Sarkozy. These columns for release']\n"
     ]
    }
   ],
   "source": [
    "# simple space split tokenize\n",
    "shingles = func.simple_space_token(text)\n",
    "pprint.pprint(sorted(list(shingles))[:10])"
   ]
  },
  {
   "cell_type": "code",
   "execution_count": 6,
   "metadata": {
    "collapsed": false
   },
   "outputs": [
    {
     "name": "stdout",
     "output_type": "stream",
     "text": [
      "[\"'m pretty certain n't judged\",\n",
      " \"'s farmers remember rising fuel\",\n",
      " '2 2002 moving today clients',\n",
      " '2002 moving today clients New',\n",
      " 'Alberto Gonzales would bearing service',\n",
      " 'April 2 2002 moving today',\n",
      " \"Australia 's farmers remember rising\",\n",
      " 'Bruni-Sarkozy columns release Tuesday April',\n",
      " 'Bush expressed confidence Monday passing',\n",
      " 'Carla Bruni-Sarkozy columns release Tuesday']\n"
     ]
    }
   ],
   "source": [
    "# word tokenize + remove stop word and punc\n",
    "shingles = func.remove_stop_word_punc_token(text)\n",
    "pprint.pprint(sorted(list(shingles))[:10])"
   ]
  },
  {
   "cell_type": "code",
   "execution_count": 7,
   "metadata": {
    "collapsed": false,
    "scrolled": true
   },
   "outputs": [
    {
     "name": "stdout",
     "output_type": "stream",
     "text": [
      "[u\"'m pretti certain n't judg\",\n",
      " u\"'s farmer rememb rise fuel\",\n",
      " u'2 2002 move today client',\n",
      " u'2002 move today client New',\n",
      " u'Alberto Gonzal would bear servic',\n",
      " u'April 2 2002 move today',\n",
      " u\"Australia 's farmer rememb rise\",\n",
      " u'Bruni-Sarkozi column releas Tuesday April',\n",
      " u'Bush express confid Monday pass',\n",
      " u'Carla Bruni-Sarkozi column releas Tuesday']\n"
     ]
    }
   ],
   "source": [
    "# word tokenize + remove stop word and punc + stemming\n",
    "shingles = func.stemming_token(text)\n",
    "pprint.pprint(sorted(list(shingles))[:10])"
   ]
  },
  {
   "cell_type": "code",
   "execution_count": 8,
   "metadata": {
    "collapsed": false,
    "scrolled": true
   },
   "outputs": [
    {
     "name": "stdout",
     "output_type": "stream",
     "text": [
      "                 id       sh1       sh2       sh3       sh4       sh5\n",
      "0    t980 vs. t1088  0.016240  0.000000  0.000000  0.000000  0.000000\n",
      "1    t980 vs. t1297  0.010320  0.000000  0.000000  0.000000  0.000000\n",
      "2    t980 vs. t1768  0.010313  0.000000  0.000000  0.000000  0.000000\n",
      "3    t980 vs. t1952  0.010317  0.000000  0.000000  0.000000  0.000000\n",
      "4    t980 vs. t2023  0.985335  0.963115  0.962500  0.940397  0.940397\n",
      "5    t980 vs. t3495  0.010357  0.000000  0.000000  0.000000  0.000000\n",
      "6    t980 vs. t4638  0.010288  0.000000  0.000000  0.000000  0.000000\n",
      "7    t980 vs. t5015  0.016207  0.000000  0.000000  0.000000  0.000000\n",
      "8    t980 vs. t5248  0.010285  0.000000  0.000000  0.000000  0.000000\n",
      "9   t1088 vs. t1297  0.006319  0.000000  0.000000  0.000000  0.000000\n",
      "10  t1088 vs. t1768  0.010681  0.000000  0.000000  0.000000  0.000000\n",
      "11  t1088 vs. t1952  0.011395  0.000000  0.000000  0.000000  0.000000\n",
      "12  t1088 vs. t2023  0.015587  0.000000  0.000000  0.000000  0.000000\n",
      "13  t1088 vs. t3495  0.011438  0.000000  0.000000  0.000000  0.000000\n",
      "14  t1088 vs. t4638  0.006300  0.000000  0.000000  0.000000  0.000000\n",
      "15  t1088 vs. t5015  0.988212  0.965779  0.964981  0.947059  0.947059\n",
      "16  t1088 vs. t5248  0.010652  0.000000  0.000000  0.000000  0.000000\n",
      "17  t1297 vs. t1768  0.016812  0.000000  0.000000  0.000000  0.000000\n",
      "18  t1297 vs. t1952  0.011061  0.000000  0.000000  0.000000  0.000000\n",
      "19  t1297 vs. t2023  0.010352  0.000000  0.000000  0.000000  0.000000\n",
      "20  t1297 vs. t3495  0.011103  0.000000  0.000000  0.000000  0.000000\n",
      "21  t1297 vs. t4638  0.986239  0.964567  0.965116  0.947977  0.947977\n",
      "22  t1297 vs. t5015  0.006306  0.000000  0.000000  0.000000  0.000000\n",
      "23  t1297 vs. t5248  0.016767  0.000000  0.000000  0.000000  0.000000\n",
      "24  t1768 vs. t1952  0.010704  0.000000  0.000000  0.000000  0.000000\n",
      "25  t1768 vs. t2023  0.010345  0.000000  0.000000  0.000000  0.000000\n",
      "26  t1768 vs. t3495  0.010745  0.000000  0.000000  0.000000  0.000000\n",
      "27  t1768 vs. t4638  0.016762  0.000000  0.000000  0.000000  0.000000\n",
      "28  t1768 vs. t5015  0.010660  0.000000  0.000000  0.000000  0.000000\n",
      "29  t1768 vs. t5248  0.986902  0.964706  0.964567  0.943750  0.943750\n",
      "30  t1952 vs. t2023  0.010350  0.000000  0.000000  0.000000  0.000000\n",
      "31  t1952 vs. t3495  0.983803  0.962500  0.961207  0.943750  0.943750\n",
      "32  t1952 vs. t4638  0.011027  0.000000  0.000000  0.000000  0.000000\n",
      "33  t1952 vs. t5015  0.011371  0.000000  0.000000  0.000000  0.000000\n",
      "34  t1952 vs. t5248  0.010675  0.000000  0.000000  0.000000  0.000000\n",
      "35  t2023 vs. t3495  0.010391  0.000000  0.000000  0.000000  0.000000\n",
      "36  t2023 vs. t4638  0.010320  0.000000  0.000000  0.000000  0.000000\n",
      "37  t2023 vs. t5015  0.015555  0.000000  0.000000  0.000000  0.000000\n",
      "38  t2023 vs. t5248  0.010316  0.000000  0.000000  0.000000  0.000000\n",
      "39  t3495 vs. t4638  0.011069  0.000000  0.000000  0.000000  0.000000\n",
      "40  t3495 vs. t5015  0.011415  0.000000  0.000000  0.000000  0.000000\n",
      "41  t3495 vs. t5248  0.010716  0.000000  0.000000  0.000000  0.000000\n",
      "42  t4638 vs. t5015  0.006287  0.000000  0.000000  0.000000  0.000000\n",
      "43  t4638 vs. t5248  0.016717  0.000000  0.000000  0.000000  0.000000\n",
      "44  t5015 vs. t5248  0.010631  0.000000  0.000000  0.000000  0.000000\n"
     ]
    }
   ],
   "source": [
    "f = open(\"./data/articles_100.train\", \"rU\")\n",
    "# id_set = set(['t1088', 't5015', 't1297', 't4638', 't1768',  't5248', 't1952',  't3495', 't980', 't2023'])\n",
    "id_set = set(['t1088', 't5015', 't1297', 't4638'])\n",
    "\n",
    "shingles_list = []\n",
    "for i in range(0, 100):\n",
    "    line = f.readline()\n",
    "    id_article = line.split(' ', 1)\n",
    "    id = id_article[0]\n",
    "    text = id_article[1]\n",
    "    \n",
    "    if(id in id_set):\n",
    "        shingles_dict = {}\n",
    "        shingles_dict['id'] = id\n",
    "        shingles_dict['sh1'] = func.char_token(text, 8)\n",
    "        shingles_dict['sh2'] = func.word_token(text, 5)\n",
    "        shingles_dict['sh3'] = func.simple_space_token(text, 5)\n",
    "        shingles_dict['sh4'] = func.remove_stop_word_punc_token(text, 5)\n",
    "        shingles_dict['sh5'] = func.stemming_token(text, 5)\n",
    "        shingles_list.append(shingles_dict)\n",
    "\n",
    "result = []\n",
    "for t1 in range (0,len(id_set)):\n",
    "    for t2 in range(t1+1,len(id_set)):\n",
    "        j_s_dict = {}\n",
    "        j_s_dict['id'] = shingles_list[t1]['id']+' vs. '+shingles_list[t2]['id']\n",
    "        for k in range(1,6):\n",
    "            sh_string = 'sh'+str(k)\n",
    "            j_s = func.jaccard_similarity(shingles_list[t1][sh_string], shingles_list[t2][sh_string])\n",
    "            j_s_dict[sh_string] = j_s\n",
    "        result.append(j_s_dict)\n",
    "df = pd.DataFrame(result)\n",
    "pprint.pprint(df)\n",
    "\n",
    "f.close()"
   ]
  },
  {
   "cell_type": "code",
   "execution_count": null,
   "metadata": {
    "collapsed": true
   },
   "outputs": [],
   "source": []
  }
 ],
 "metadata": {
  "kernelspec": {
   "display_name": "Python 2",
   "language": "python",
   "name": "python2"
  },
  "language_info": {
   "codemirror_mode": {
    "name": "ipython",
    "version": 2
   },
   "file_extension": ".py",
   "mimetype": "text/x-python",
   "name": "python",
   "nbconvert_exporter": "python",
   "pygments_lexer": "ipython2",
   "version": "2.7.9"
  }
 },
 "nbformat": 4,
 "nbformat_minor": 1
}
