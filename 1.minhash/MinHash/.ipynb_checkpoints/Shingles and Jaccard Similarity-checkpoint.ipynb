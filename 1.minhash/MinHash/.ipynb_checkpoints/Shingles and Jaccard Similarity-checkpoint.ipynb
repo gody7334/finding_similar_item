{
 "cells": [
  {
   "cell_type": "code",
   "execution_count": 18,
   "metadata": {
    "collapsed": false
   },
   "outputs": [],
   "source": [
    "import pprint\n",
    "import nltk\n",
    "import func\n",
    "import string\n",
    "import pandas as pd"
   ]
  },
  {
   "cell_type": "code",
   "execution_count": 19,
   "metadata": {
    "collapsed": false
   },
   "outputs": [],
   "source": [
    "f = open(\"./data/articles_100.train\", \"rU\")\n",
    "line = f.readline()\n",
    "id_article = line.split(' ', 1)\n",
    "id = id_article[0]\n",
    "text = id_article[1]\n",
    "f.close()"
   ]
  },
  {
   "cell_type": "code",
   "execution_count": 20,
   "metadata": {
    "collapsed": false,
    "scrolled": false
   },
   "outputs": [
    {
     "name": "stdout",
     "output_type": "stream",
     "text": [
      "[' \"growth\"',\n",
      " ' \"value\".',\n",
      " ' -- I hav',\n",
      " ' 2, 2002 ',\n",
      " ' 2002 are',\n",
      " ' Alberto ',\n",
      " ' Anderson',\n",
      " ' April 2,',\n",
      " ' Australi',\n",
      " ' Bruni-Sa']\n"
     ]
    }
   ],
   "source": [
    "# Characters tokenize\n",
    "shingles = func.char_token(text)\n",
    "pprint.pprint(sorted(list(shingles))[:10])"
   ]
  },
  {
   "cell_type": "code",
   "execution_count": 21,
   "metadata": {
    "collapsed": false
   },
   "outputs": [
    {
     "name": "stdout",
     "output_type": "stream",
     "text": [
      "['\"growth\" and the other, more',\n",
      " '\"value\". I don\\'t know if',\n",
      " \"-- I haven't seen it.\",\n",
      " '2, 2002 are moving today',\n",
      " '2002 are moving today to',\n",
      " 'A man was shot dead',\n",
      " 'Alberto Gonzales would have no',\n",
      " 'April 2, 2002 are moving',\n",
      " \"Australia's farmers should remember rising\",\n",
      " 'Bruni-Sarkozy. These columns for release']\n"
     ]
    }
   ],
   "source": [
    "# simple space split tokenize\n",
    "shingles = func.simple_space_token(text)\n",
    "pprint.pprint(sorted(list(shingles))[:10])"
   ]
  },
  {
   "cell_type": "code",
   "execution_count": 22,
   "metadata": {
    "collapsed": false,
    "scrolled": true
   },
   "outputs": [
    {
     "name": "stdout",
     "output_type": "stream",
     "text": [
      "[\"'m pretty certain that it\",\n",
      " \"'s farmers should remember rising\",\n",
      " '2 2002 are moving today',\n",
      " '2002 are moving today to',\n",
      " 'A man was shot dead',\n",
      " 'Alberto Gonzales would have no',\n",
      " 'April 2 2002 are moving',\n",
      " \"Australia 's farmers should remember\",\n",
      " 'Bruni-Sarkozy These columns for release',\n",
      " 'Bush expressed confidence on Monday']\n"
     ]
    }
   ],
   "source": [
    "# word tokenize\n",
    "shingles = func.word_token(text)\n",
    "pprint.pprint(sorted(list(shingles))[:10])"
   ]
  },
  {
   "cell_type": "code",
   "execution_count": 23,
   "metadata": {
    "collapsed": false
   },
   "outputs": [
    {
     "name": "stdout",
     "output_type": "stream",
     "text": [
      "[\"'m pretty certain n't judged\",\n",
      " \"'s farmers remember rising fuel\",\n",
      " '2 2002 moving today clients',\n",
      " '2002 moving today clients New',\n",
      " 'Alberto Gonzales would bearing service',\n",
      " 'April 2 2002 moving today',\n",
      " \"Australia 's farmers remember rising\",\n",
      " 'Bruni-Sarkozy columns release Tuesday April',\n",
      " 'Bush expressed confidence Monday passing',\n",
      " 'Carla Bruni-Sarkozy columns release Tuesday']\n"
     ]
    }
   ],
   "source": [
    "# word tokenize + remove stop word and punc\n",
    "shingles = func.remove_stop_word_punc_token(text)\n",
    "pprint.pprint(sorted(list(shingles))[:10])"
   ]
  },
  {
   "cell_type": "code",
   "execution_count": 24,
   "metadata": {
    "collapsed": false,
    "scrolled": true
   },
   "outputs": [
    {
     "name": "stdout",
     "output_type": "stream",
     "text": [
      "[u\"'m pretti certain n't judg\",\n",
      " u\"'s farmer rememb rise fuel\",\n",
      " u'2 2002 move today client',\n",
      " u'2002 move today client New',\n",
      " u'Alberto Gonzal would bear servic',\n",
      " u'April 2 2002 move today',\n",
      " u\"Australia 's farmer rememb rise\",\n",
      " u'Bruni-Sarkozi column releas Tuesday April',\n",
      " u'Bush express confid Monday pass',\n",
      " u'Carla Bruni-Sarkozi column releas Tuesday']\n"
     ]
    }
   ],
   "source": [
    "# word tokenize + remove stop word and punc + stemming\n",
    "shingles = func.stemming_token(text)\n",
    "pprint.pprint(sorted(list(shingles))[:10])"
   ]
  },
  {
   "cell_type": "code",
   "execution_count": 9,
   "metadata": {
    "collapsed": false,
    "scrolled": true
   },
   "outputs": [
    {
     "name": "stdout",
     "output_type": "stream",
     "text": [
      "                id       sh1       sh2       sh3       sh4       sh5\n",
      "0  t1088 vs. t1297  0.006319  0.000000  0.000000  0.000000  0.000000\n",
      "1  t1088 vs. t4638  0.006300  0.000000  0.000000  0.000000  0.000000\n",
      "2  t1088 vs. t5015  0.988212  0.965779  0.964981  0.947059  0.947059\n",
      "3  t1297 vs. t4638  0.986239  0.964567  0.965116  0.947977  0.947977\n",
      "4  t1297 vs. t5015  0.006306  0.000000  0.000000  0.000000  0.000000\n",
      "5  t4638 vs. t5015  0.006287  0.000000  0.000000  0.000000  0.000000\n"
     ]
    }
   ],
   "source": [
    "f = open(\"./data/articles_100.train\", \"rU\")\n",
    "# id_set = set(['t1088', 't5015', 't1297', 't4638', 't1768',  't5248', 't1952',  't3495', 't980', 't2023'])\n",
    "id_set = set(['t1088', 't5015', 't1297', 't4638'])\n",
    "\n",
    "shingles_list = []\n",
    "for i in range(0, 100):\n",
    "    line = f.readline()\n",
    "    id_article = line.split(' ', 1)\n",
    "    id = id_article[0]\n",
    "    text = id_article[1]\n",
    "    \n",
    "    if(id in id_set):\n",
    "        shingles_dict = {}\n",
    "        shingles_dict['id'] = id\n",
    "        shingles_dict['sh1'] = func.char_token(text, 8)\n",
    "        shingles_dict['sh2'] = func.simple_space_token(text, 5)\n",
    "        shingles_dict['sh3'] = func.word_token(text, 5)\n",
    "        shingles_dict['sh4'] = func.remove_stop_word_punc_token(text, 5)\n",
    "        shingles_dict['sh5'] = func.stemming_token(text, 5)\n",
    "        shingles_list.append(shingles_dict)\n",
    "\n",
    "result = []\n",
    "for t1 in range (0,len(id_set)):\n",
    "    for t2 in range(t1+1,len(id_set)):\n",
    "        j_s_dict = {}\n",
    "        j_s_dict['id'] = shingles_list[t1]['id']+' vs. '+shingles_list[t2]['id']\n",
    "        for k in range(1,6):\n",
    "            sh_string = 'sh'+str(k)\n",
    "            j_s = func.jaccard_similarity(shingles_list[t1][sh_string], shingles_list[t2][sh_string])\n",
    "            j_s_dict[sh_string] = j_s\n",
    "        result.append(j_s_dict)\n",
    "df = pd.DataFrame(result)\n",
    "pprint.pprint(df)\n",
    "\n",
    "f.close()"
   ]
  },
  {
   "cell_type": "code",
   "execution_count": null,
   "metadata": {
    "collapsed": true
   },
   "outputs": [],
   "source": []
  }
 ],
 "metadata": {
  "kernelspec": {
   "display_name": "Python 2",
   "language": "python",
   "name": "python2"
  },
  "language_info": {
   "codemirror_mode": {
    "name": "ipython",
    "version": 2
   },
   "file_extension": ".py",
   "mimetype": "text/x-python",
   "name": "python",
   "nbconvert_exporter": "python",
   "pygments_lexer": "ipython2",
   "version": "2.7.9"
  }
 },
 "nbformat": 4,
 "nbformat_minor": 1
}
