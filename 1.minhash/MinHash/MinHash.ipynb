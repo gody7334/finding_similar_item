{
 "cells": [
  {
   "cell_type": "code",
   "execution_count": 1,
   "metadata": {
    "collapsed": false
   },
   "outputs": [],
   "source": [
    "import os\n",
    "import pprint\n",
    "import nltk\n",
    "import func\n",
    "import string\n",
    "import pandas as pd\n",
    "import binascii\n",
    "import random\n",
    "from sys import getsizeof"
   ]
  },
  {
   "cell_type": "code",
   "execution_count": 2,
   "metadata": {
    "collapsed": true
   },
   "outputs": [],
   "source": [
    "f = open(\"./data/articles_100.train\", \"rU\")\n",
    "line = f.readline()\n",
    "id_article = line.split(' ', 1)\n",
    "id = id_article[0]\n",
    "text = id_article[1]\n",
    "f.close()"
   ]
  },
  {
   "cell_type": "code",
   "execution_count": 3,
   "metadata": {
    "collapsed": false,
    "scrolled": true
   },
   "outputs": [
    {
     "name": "stdout",
     "output_type": "stream",
     "text": [
      "1434\n"
     ]
    }
   ],
   "source": [
    "# Characters tokenize\n",
    "shingles_set = func.char_token(text)\n",
    "print len(shingles_set)"
   ]
  },
  {
   "cell_type": "code",
   "execution_count": null,
   "metadata": {
    "collapsed": false
   },
   "outputs": [],
   "source": [
    "s = shingles_set.pop()\n",
    "print s\n",
    "hash_32 = binascii.crc32(s)\n",
    "print hash_32\n",
    "print bin(hash_32)\n",
    "print hex(hash_32)\n",
    "print type(hash_32)\n",
    "\n",
    "rand_32 = random.randint(-2147483647,2147483647)\n",
    "print rand_32\n",
    "print bin(rand_32)\n",
    "print hex(rand_32)\n",
    "print type(rand_32)\n",
    "\n",
    "xor_32 = hash_32 ^ rand_32\n",
    "print xor_32\n",
    "print bin(xor_32)\n",
    "print hex(xor_32)\n",
    "print type(xor_32)\n"
   ]
  },
  {
   "cell_type": "code",
   "execution_count": null,
   "metadata": {
    "collapsed": false,
    "scrolled": true
   },
   "outputs": [],
   "source": [
    "# Generate 200 random 32bit integer\n",
    "rand_int_list = [random.randint(-2147483647,2147483647) for r in xrange(200)]\n",
    "\n",
    "multi_hash_minhash_list = []\n",
    "for r in rand_int_list:\n",
    "    shingles_hash_set = set()\n",
    "    for s in shingles_set:\n",
    "        hash_32 = binascii.crc32(s) ^ r\n",
    "        shingles_hash_set.add(hash_32)\n",
    "    minhash = min(shingles_hash_set)\n",
    "    multi_hash_minhash_list.append(minhash)\n",
    "# pprint.pprint(multi_hash_minhash_list)"
   ]
  },
  {
   "cell_type": "code",
   "execution_count": null,
   "metadata": {
    "collapsed": false,
    "scrolled": true
   },
   "outputs": [],
   "source": [
    "# get 200 minhash values using one hash func\n",
    "rand_32 = random.randint(-2147483647,2147483647)\n",
    "shingles_hash_set = set()\n",
    "for s in shingles_set:\n",
    "    hash_32 = binascii.crc32(s) ^ rand_32\n",
    "    shingles_hash_set.add(hash_32)\n",
    "\n",
    "single_hash_minhash_list = sorted(list(shingles_hash_set))[0:200]\n",
    "# pprint.pprint(single_hash_minhash_list)"
   ]
  },
  {
   "cell_type": "code",
   "execution_count": null,
   "metadata": {
    "collapsed": true
   },
   "outputs": [],
   "source": [
    "# Universal Hashing"
   ]
  },
  {
   "cell_type": "code",
   "execution_count": null,
   "metadata": {
    "collapsed": true
   },
   "outputs": [],
   "source": [
    "f = open(\"./data/articles_100.train\", \"rU\")\n",
    "# id_set = set(['t1088', 't5015', 't1297', 't4638', 't1768',  't5248', 't1952',  't3495', 't980', 't2023'])\n",
    "id_set = set(['t1088', 't5015', 't1297', 't4638'])\n",
    "\n",
    "\n"
   ]
  },
  {
   "cell_type": "code",
   "execution_count": null,
   "metadata": {
    "collapsed": false
   },
   "outputs": [],
   "source": [
    "# shingle = list(shingles_hash_set)[0]\n",
    "shingle = 2124812088\n",
    "print getsizeof(shingle)\n",
    "print shingle\n",
    "print type(shingle)\n",
    "print bin(shingle)\n",
    "print hex(shingle)\n",
    "\n",
    "all = 0b11111111111111111111111111111111\n",
    "print all\n",
    "print -1+2**32\n",
    "print bin(all)\n",
    "\n",
    "newall = all & shingle\n",
    "print newall"
   ]
  },
  {
   "cell_type": "code",
   "execution_count": null,
   "metadata": {
    "collapsed": false,
    "scrolled": true
   },
   "outputs": [],
   "source": [
    "print(binascii.hexlify(os.urandom(4))) # 4 bytes = 4*8 = 32 bits = crc32"
   ]
  },
  {
   "cell_type": "code",
   "execution_count": 4,
   "metadata": {
    "collapsed": false,
    "scrolled": true
   },
   "outputs": [
    {
     "name": "stdout",
     "output_type": "stream",
     "text": [
      "set(['SHA1', 'SHA224', 'SHA', 'SHA384', 'ecdsa-with-SHA1', 'SHA256', 'SHA512', 'md4', 'md5', 'sha1', 'dsaWithSHA', 'DSA-SHA', 'sha224', 'dsaEncryption', 'DSA', 'ripemd160', 'sha', 'MD5', 'MD4', 'sha384', 'sha256', 'sha512', 'RIPEMD160', 'whirlpool'])\n",
      "1�\u0001M3�C�En~��é.\n",
      "31d4014d33af43c1456e7ed3d2c3a92e\n",
      "16\n",
      "64\n",
      "g������\r",
      "\u000e{JP)���\n",
      "000f358dbcec1f0db41dcae89510b0b6\n",
      "1�\u0001M3�C�En~��é.\n",
      "��an�}m�=�T�y \n"
     ]
    }
   ],
   "source": [
    "import hashlib\n",
    "print hashlib.algorithms_available\n",
    "m = hashlib.md5()\n",
    "m.update(\"hollo world!!\")\n",
    "print m.digest()\n",
    "print m.hexdigest()\n",
    "print m.digest_size\n",
    "print m.block_size\n",
    "\n",
    "print os.urandom(16)\n",
    "print binascii.hexlify(os.urandom(16))\n",
    "\n",
    "h = binascii.unhexlify(binascii.hexlify(m.digest()))\n",
    "g = binascii.unhexlify(binascii.hexlify(os.urandom(16)))\n",
    "print h\n",
    "print g\n"
   ]
  },
  {
   "cell_type": "code",
   "execution_count": 27,
   "metadata": {
    "collapsed": false
   },
   "outputs": [
    {
     "name": "stdout",
     "output_type": "stream",
     "text": [
      "{0: 3626764237L}\n",
      "{0: 3626764237L, 1: 577090037L}\n",
      "{0: 3626764237L, 1: 577090037L, 2: 4106135923L}\n",
      "{0: 3626764237L, 1: 577090037L, 2: 4106135923L, 3: 1022050301L}\n",
      "{0: 3626764237L, 1: 577090037L, 2: 4106135923L, 3: 1022050301L, 4: 1013818839L}\n",
      "{0: 3626764237L, 1: 577090037L, 2: 4106135923L, 3: 1022050301L, 4: 1013818839L, 5: 2675342405L}\n",
      "{0: 3626764237L, 1: 577090037L, 2: 4106135923L, 3: 1022050301L, 4: 1013818839L, 5: 2675342405L, 6: 3407369726L}\n",
      "{0: 3626764237L, 1: 577090037L, 2: 4106135923L, 3: 1022050301L, 4: 1013818839L, 5: 2675342405L, 6: 3407369726L, 7: 1390851128L}\n",
      "{0: 3626764237L, 1: 577090037L, 2: 4106135923L, 3: 1022050301L, 4: 1013818839L, 5: 2675342405L, 6: 3407369726L, 7: 1390851128L, 8: 973694259L}\n",
      "{0: 3626764237L, 1: 577090037L, 2: 4106135923L, 3: 1022050301L, 4: 1013818839L, 5: 2675342405L, 6: 3407369726L, 7: 1390851128L, 8: 973694259L, 9: 1988601454L}\n",
      "{0: 3626764237L, 1: 577090037L, 2: 4106135923L, 3: 1022050301L, 4: 1013818839L, 5: 2675342405L, 6: 3407369726L, 7: 1390851128L, 8: 973694259L, 9: 1988601454L}\n"
     ]
    },
    {
     "data": {
      "text/plain": [
       "<function __main__.myhash>"
      ]
     },
     "execution_count": 27,
     "metadata": {},
     "output_type": "execute_result"
    }
   ],
   "source": [
    "import random\n",
    "\n",
    "_memomask = {}\n",
    "\n",
    "def hash_function(n):\n",
    "    mask = _memomask.get(n)\n",
    "    if mask is None:\n",
    "        random.seed(n)\n",
    "        mask = _memomask[n] = random.getrandbits(32)\n",
    "    def myhash(x):\n",
    "        return hash(x) ^ mask\n",
    "    print _memomask\n",
    "    return myhash\n",
    "\n",
    "for i in range(10):\n",
    "    hash_function(i)\n",
    "\n",
    "hash_function(1)\n",
    "    \n",
    "# f = hash_function(10)(40)\n",
    "\n",
    "# print type(f)\n"
   ]
  },
  {
   "cell_type": "code",
   "execution_count": null,
   "metadata": {
    "collapsed": true
   },
   "outputs": [],
   "source": []
  }
 ],
 "metadata": {
  "kernelspec": {
   "display_name": "Python 2",
   "language": "python",
   "name": "python2"
  },
  "language_info": {
   "codemirror_mode": {
    "name": "ipython",
    "version": 2
   },
   "file_extension": ".py",
   "mimetype": "text/x-python",
   "name": "python",
   "nbconvert_exporter": "python",
   "pygments_lexer": "ipython2",
   "version": "2.7.9"
  }
 },
 "nbformat": 4,
 "nbformat_minor": 1
}
